{
 "cells": [
  {
   "cell_type": "code",
   "execution_count": 2,
   "metadata": {},
   "outputs": [
    {
     "name": "stdout",
     "output_type": "stream",
     "text": [
      "This is the fourth class of python on Conditional Statements\n"
     ]
    }
   ],
   "source": [
    "print(\"This is the fourth class of python on Conditional Statements\")"
   ]
  },
  {
   "cell_type": "code",
   "execution_count": 3,
   "metadata": {},
   "outputs": [
    {
     "name": "stdout",
     "output_type": "stream",
     "text": [
      "You can walk\n"
     ]
    }
   ],
   "source": [
    "light='green'\n",
    "if light=='green':\n",
    "    print(\"You can walk\")\n",
    "elif light=='red':\n",
    "    print(\"You cant walk\")\n",
    "else:\n",
    "    print(\"You can start now\")    \n"
   ]
  },
  {
   "cell_type": "code",
   "execution_count": 4,
   "metadata": {},
   "outputs": [
    {
     "data": {
      "text/plain": [
       "'6\\\\'"
      ]
     },
     "execution_count": 4,
     "metadata": {},
     "output_type": "execute_result"
    }
   ],
   "source": [
    "input()"
   ]
  },
  {
   "cell_type": "code",
   "execution_count": 5,
   "metadata": {},
   "outputs": [
    {
     "data": {
      "text/plain": [
       "7"
      ]
     },
     "execution_count": 5,
     "metadata": {},
     "output_type": "execute_result"
    }
   ],
   "source": [
    "int(input()) "
   ]
  },
  {
   "cell_type": "code",
   "execution_count": 6,
   "metadata": {},
   "outputs": [
    {
     "data": {
      "text/plain": [
       "''"
      ]
     },
     "execution_count": 6,
     "metadata": {},
     "output_type": "execute_result"
    }
   ],
   "source": [
    "str(input())"
   ]
  },
  {
   "cell_type": "code",
   "execution_count": 16,
   "metadata": {},
   "outputs": [
    {
     "name": "stdout",
     "output_type": "stream",
     "text": [
      "You can't walk\n"
     ]
    }
   ],
   "source": [
    "light=input(\"Enter the light value: \")\n",
    "if light=='Green':\n",
    "    print(\"You can walk\")\n",
    "elif light=='Red':\n",
    "    print(\"You can't walk\")\n",
    "else:\n",
    "    print(\"You can start now\")    \n"
   ]
  },
  {
   "cell_type": "code",
   "execution_count": 10,
   "metadata": {},
   "outputs": [
    {
     "data": {
      "text/plain": [
       "False"
      ]
     },
     "execution_count": 10,
     "metadata": {},
     "output_type": "execute_result"
    }
   ],
   "source": [
    "light==\"Green\""
   ]
  },
  {
   "cell_type": "code",
   "execution_count": 11,
   "metadata": {},
   "outputs": [
    {
     "name": "stdout",
     "output_type": "stream",
     "text": [
      "Userid:     Password:  \n",
      "You are not allowed to login\n"
     ]
    }
   ],
   "source": [
    "userId=input(\"Enter your user name\")\n",
    "password=input(\"Enter the password\")\n",
    "print(\"Userid: \",userId,\" \",\"Password: \",password)\n",
    "if userId==\"deepu\" and password==\"euron\":\n",
    "    print(\"Its a valid user id and you are allowed to login.\")\n",
    "elif userId!=\"deepu\" and password!=\"euron\":\n",
    "    print(\"You are not allowed to login\")\n",
    "elif userId!=\"deepu\" :\n",
    "    print(\"Please check your userId\")\n",
    "else:\n",
    "    print(\"You have incorrect password\")            "
   ]
  },
  {
   "cell_type": "code",
   "execution_count": 30,
   "metadata": {},
   "outputs": [
    {
     "name": "stdout",
     "output_type": "stream",
     "text": [
      "47\n",
      "47 Number is odd\n"
     ]
    }
   ],
   "source": [
    "a=int(input(\"Enter the number\"))\n",
    "print(a)\n",
    "if(a%2==0):\n",
    "    print(a ,\"Number is a even\")\n",
    "else:\n",
    "    print(a, \"Number is odd\")\n",
    "    "
   ]
  },
  {
   "cell_type": "code",
   "execution_count": 32,
   "metadata": {},
   "outputs": [
    {
     "name": "stdout",
     "output_type": "stream",
     "text": [
      "You will become data engineer\n"
     ]
    }
   ],
   "source": [
    "basic_course=input(\"Enter the basic course name\")\n",
    "advance_course=input(\"Enter the advance course name\")\n",
    "\n",
    "if basic_course==\"python\":\n",
    "    if advance_course==\"data scientisi\":\n",
    "        print(\"You will become data scientist\")\n",
    "    elif advance_course==\"big data\":\n",
    "        print(\"You will become data engineer\")\n",
    "    elif advance_course==\"data analytics\":\n",
    "        print(\"Yoy will become Business Analyst\") \n",
    "    elif advance_course==\"Gen ai\":\n",
    "        print(\"You will become Gen Ai engineer\")\n",
    "else:\n",
    "    if basic_course==\"javascript\":\n",
    "        print(\"You will become Full stack developer\")\n"
   ]
  }
 ],
 "metadata": {
  "kernelspec": {
   "display_name": "Python 3",
   "language": "python",
   "name": "python3"
  },
  "language_info": {
   "codemirror_mode": {
    "name": "ipython",
    "version": 3
   },
   "file_extension": ".py",
   "mimetype": "text/x-python",
   "name": "python",
   "nbconvert_exporter": "python",
   "pygments_lexer": "ipython3",
   "version": "3.12.9"
  }
 },
 "nbformat": 4,
 "nbformat_minor": 2
}
